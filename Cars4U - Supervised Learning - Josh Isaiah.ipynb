{
 "cells": [
  {
   "cell_type": "markdown",
   "metadata": {},
   "source": [
    "----------------------------------\n",
    "# Project: Cars4U - Supervised Learning - Josh Isaiah\n",
    "----------------------------------\n",
    "\n",
    "### Description\n",
    "### Background & Context\n",
    "There is a huge demand for used cars in the Indian Market today. As sales of new cars have slowed down in the recent past, the pre-owned car market has continued to grow over the past years and is larger than the new car market now. Cars4U is a budding tech start-up that aims to find footholes in this market.\n",
    "\n",
    "In 2018-19, while new car sales were recorded at 3.6 million units, around 4 million second-hand cars were bought and sold. There is a slowdown in new car sales and that could mean that the demand is shifting towards the pre-owned market. In fact, some car sellers replace their old cars with pre-owned cars instead of buying new ones. Unlike new cars, where price and supply are fairly deterministic and managed by OEMs (**O**riginal **E**quipment **M**anufacturer / except for dealership level discounts which come into play only in the last stage of the customer journey), used cars are very different beasts with huge uncertainty in both pricing and supply. Keeping this in mind, the pricing scheme of these used cars becomes important in order to grow in the market.\n",
    "\n",
    "As a senior data scientist at Cars4U, you have to come up with a pricing model that can effectively predict the price of used cars and can help the business in devising profitable strategies using differential pricing. For example, if the business knows the market price, it will never sell anything below it. \n",
    "\n",
    "### Objective\n",
    "1.\tExplore and visualize the dataset.\n",
    "2.\tBuild a linear regression model to predict the prices of used cars.\n",
    "3.\tGenerate a set of insights and recommendations that will help the business.\n",
    "\n",
    "### Data Dictionary \n",
    "1.\tS.No. : Serial Number\n",
    "2.\tName : Name of the car which includes Brand name and Model name\n",
    "3.\tLocation : The location in which the car is being sold or is available for purchase Cities\n",
    "4.\tYear : Manufacturing year of the car\n",
    "5.\tKilometers_driven : The total kilometers driven in the car by the previous owner(s) in KM.\n",
    "6.\tFuel_Type : The type of fuel used by the car. (Petrol, Diesel, Electric, CNG, LPG)\n",
    "7.\tTransmission : The type of transmission used by the car. (Automatic / Manual)\n",
    "8.\tOwner : Type of ownership\n",
    "9.\tMileage : The standard mileage offered by the car company in kmpl or km/kg\n",
    "10.\tEngine : The displacement volume of the engine in CC.\n",
    "11.\tPower : The maximum power of the engine in bhp.\n",
    "12.\tSeats : The number of seats in the car.\n",
    "13.\tNew_Price : The price of a new car of the same model in INR Lakhs.(1 Lakh = 100, 000)\n",
    "14.\tPrice : The price of the used car in INR Lakhs (1 Lakh = 100, 000)\n"
   ]
  },
  {
   "cell_type": "code",
   "execution_count": null,
   "metadata": {},
   "outputs": [],
   "source": []
  },
  {
   "cell_type": "code",
   "execution_count": null,
   "metadata": {},
   "outputs": [],
   "source": []
  }
 ],
 "metadata": {
  "kernelspec": {
   "display_name": "Python 3",
   "language": "python",
   "name": "python3"
  },
  "language_info": {
   "codemirror_mode": {
    "name": "ipython",
    "version": 3
   },
   "file_extension": ".py",
   "mimetype": "text/x-python",
   "name": "python",
   "nbconvert_exporter": "python",
   "pygments_lexer": "ipython3",
   "version": "3.8.5"
  }
 },
 "nbformat": 4,
 "nbformat_minor": 4
}
